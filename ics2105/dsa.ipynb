{
 "cells": [
  {
   "cell_type": "markdown",
   "metadata": {},
   "source": [
    "Using Example Code, demonstrate 2 parameter passing mechanisms used in functional abstraction."
   ]
  },
  {
   "cell_type": "code",
   "execution_count": 2,
   "metadata": {},
   "outputs": [
    {
     "name": "stdout",
     "output_type": "stream",
     "text": [
      "Inside func 11\n",
      "Outside func 10\n"
     ]
    }
   ],
   "source": [
    "#pass by value\n",
    "def increment_by_value(n):\n",
    "    n += 1\n",
    "    print(\"Inside func\",n)\n",
    "\n",
    "num = 10\n",
    "increment_by_value(num)\n",
    "print(\"Outside func\",num)"
   ]
  },
  {
   "cell_type": "code",
   "execution_count": 3,
   "metadata": {},
   "outputs": [
    {
     "name": "stdout",
     "output_type": "stream",
     "text": [
      "Inside func [11, 20, 30]\n",
      "Outside func [11, 20, 30]\n"
     ]
    }
   ],
   "source": [
    "#pass by reference\n",
    "def increment_first_element(arr):\n",
    "    arr[0] += 1\n",
    "    print(\"Inside func\",arr)\n",
    "\n",
    "numbers = [10,20,30]\n",
    "increment_first_element(numbers)\n",
    "print(\"Outside func\",numbers)\n",
    "\n"
   ]
  },
  {
   "cell_type": "markdown",
   "metadata": {},
   "source": [
    "Suppose the Binary Search Algorithm is applied to the array of names to find the location of Goodman\n",
    "1. Allen\n",
    "2. Clark\n",
    "3. Dickens\n",
    "4. Edwards\n",
    "5. Goodman\n",
    "6. Hobbs\n",
    "7. Irwin\n",
    "8. Klein\n",
    "9. Lewis\n",
    "10. Morgan\n",
    "11. Richards\n",
    "12. Scot\n",
    "13. Tucker\n",
    "14. Watton\n",
    "\n",
    "Find the end element (END), the beginning element (BEG), and the middle element (MID) in each step of the algorithm.\n",
    "\n",
    "Describe the worst case running time of the binary search algorithm, hence provide the value for the worst case of the algorithm for an array of length (200)"
   ]
  },
  {
   "cell_type": "markdown",
   "metadata": {},
   "source": [
    "BEG = 1\n",
    "END = 14\n",
    "MID = 14 / 2 = 7\n",
    "\n",
    "\"Goodman\" is alphabetically less than \"Irwin\", we update END to MID-1\n",
    "BEG = 1\n",
    "END = 7-1 = 6\n",
    "MID = (1+5)//2 = 3\n",
    "MID element = \"Dickens\"\n",
    "\n",
    "\"Goodman\" is alphabetically greater than \"Dickens\", we update BEG to MID+1\n",
    "BEG = 3+1 = 4\n",
    "END = 6\n",
    "MID = (4+6) / 2\n",
    "MID element = \"Goodman\"\n",
    "\n",
    "We Found Goodman at MID = 5"
   ]
  },
  {
   "cell_type": "markdown",
   "metadata": {},
   "source": [
    "Worst Case, when element is not present in array.\n",
    "\n",
    "Logarithmic time O(log2 200)\n",
    "\n",
    "log(to base 2)200 = 7.64\n",
    "approx 8 steps to determine element is not present in array of length 200"
   ]
  },
  {
   "cell_type": "markdown",
   "metadata": {},
   "source": [
    "### QUE\n",
    "given an integer array nums, and an integer k,  return the largest element on the array. Note that we need the kth largest element in the sorted order, not the kth distinct element. Please write a solution that does not take any sorting into account."
   ]
  },
  {
   "cell_type": "code",
   "execution_count": null,
   "metadata": {},
   "outputs": [],
   "source": [
    "import heapq\n",
    "\n",
    "def kth_largest_element(nums,k):\n",
    "    #create a min heap for first k elements\n",
    "    min_heap = arr[:k]"
   ]
  }
 ],
 "metadata": {
  "kernelspec": {
   "display_name": "Python 3",
   "language": "python",
   "name": "python3"
  },
  "language_info": {
   "codemirror_mode": {
    "name": "ipython",
    "version": 3
   },
   "file_extension": ".py",
   "mimetype": "text/x-python",
   "name": "python",
   "nbconvert_exporter": "python",
   "pygments_lexer": "ipython3",
   "version": "3.12.5"
  }
 },
 "nbformat": 4,
 "nbformat_minor": 2
}
